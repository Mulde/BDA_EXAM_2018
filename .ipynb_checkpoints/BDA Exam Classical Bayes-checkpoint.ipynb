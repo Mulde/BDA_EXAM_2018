{
 "cells": [
  {
   "cell_type": "code",
   "execution_count": null,
   "metadata": {},
   "outputs": [],
   "source": []
  },
  {
   "cell_type": "code",
   "execution_count": 6,
   "metadata": {},
   "outputs": [],
   "source": [
    "from keras.datasets import mnist\n",
    "from sklearn.metrics import confusion_matrix\n",
    "from sklearn.naive_bayes import GaussianNB, BernoulliNB, MultinomialNB"
   ]
  },
  {
   "cell_type": "code",
   "execution_count": 7,
   "metadata": {},
   "outputs": [],
   "source": [
    "(x_train, y_train), (x_test, y_test) = mnist.load_data()"
   ]
  },
  {
   "cell_type": "code",
   "execution_count": 8,
   "metadata": {},
   "outputs": [],
   "source": [
    "bayes = [GaussianNB, MultinomialNB, BernoulliNB]"
   ]
  },
  {
   "cell_type": "code",
   "execution_count": 9,
   "metadata": {},
   "outputs": [],
   "source": [
    "def classify_predict(data, target):\n",
    "    for b in bayes:\n",
    "        if b == BernoulliNB:\n",
    "            cls = b(binarize=data.mean(0))\n",
    "        else:\n",
    "            cls = b()\n",
    "        cls.fit(data, target)\n",
    "        cfs = confusion_matrix(target, cls.predict(data))\n",
    "        score=cls.score(data, target)\n",
    "        print(b.__name__)\n",
    "        print(cfs)\n",
    "        print(round(score*100,2))\n",
    "        print()"
   ]
  },
  {
   "cell_type": "code",
   "execution_count": 10,
   "metadata": {},
   "outputs": [],
   "source": [
    "x_train = x_train.reshape(60000, 784)\n",
    "x_test = x_test.reshape(10000, 784)\n",
    "\n",
    "x_train = x_train.astype('float32')\n",
    "x_test = x_test.astype('float32')\n",
    "\n",
    "x_train /= 255\n",
    "x_test /= 255"
   ]
  },
  {
   "cell_type": "code",
   "execution_count": 12,
   "metadata": {},
   "outputs": [
    {
     "name": "stdout",
     "output_type": "stream",
     "text": [
      "GaussianNB\n",
      "[[5206    9   33   16    9   13  165    5  356  111]\n",
      " [   4 6341   15   33    3   12   74    4  173   83]\n",
      " [ 484  152 1786  474   33   37 1443   17 1444   88]\n",
      " [ 274  295   49 2277   11   15  268   46 2274  622]\n",
      " [ 114   39   49   33 1027   35  483   21 1259 2782]\n",
      " [ 525  122   33  125   34  336  273   11 3411  551]\n",
      " [  47   92   25    3    4   19 5572    0  148    8]\n",
      " [  27   36    9   54   51    8   15 1919  190 3956]\n",
      " [  88  722   23   51   19   33   80    6 3802 1027]\n",
      " [  30   31   17    7   33    4    4   83  112 5628]]\n",
      "0.5649\n",
      "\n",
      "MultinomialNB\n",
      "[[5363    4   31   16   10   82  100    0  311    6]\n",
      " [   0 6311   45   40    6   28   33    3  259   17]\n",
      " [  79   82 4933  131   63    8  274   47  326   15]\n",
      " [  34  116  296 4955   12  123   59   47  290  199]\n",
      " [  19   20   37    5 4337   16  119   14  232 1043]\n",
      " [ 159   47   47  657  108 3584  131   12  473  203]\n",
      " [  62  115   83    3   30  134 5409    0   81    1]\n",
      " [  46  106   42   24  149    1    7 5152  203  535]\n",
      " [  35  334   95  316   72  203   49   14 4503  230]\n",
      " [  49   52   22   77  395   20    3  164  239 4928]]\n",
      "0.8245833333333333\n",
      "\n",
      "BernoulliNB\n",
      "[[5267    4   29   23   15  233  163    0  173   16]\n",
      " [   0 6416   37   16    4   73   25    2  157   12]\n",
      " [  93  105 4887  173  110   19  240   59  255   17]\n",
      " [  49  148  269 4911   12  156   55   70  280  181]\n",
      " [  17   54   41    1 4567   27   90   23  125  897]\n",
      " [ 136   59   58  741  134 3786  118   20  186  183]\n",
      " [  74  141  110    3   40  155 5348    0   45    2]\n",
      " [  25  141   39   16  178    7    2 5283  130  444]\n",
      " [  63  288   93  459   69  193   40   13 4398  235]\n",
      " [  62   98   25   83  419   29    2  207  138 4886]]\n",
      "0.82915\n",
      "\n"
     ]
    }
   ],
   "source": [
    "classify_predict(x_train, y_train)"
   ]
  },
  {
   "cell_type": "code",
   "execution_count": null,
   "metadata": {},
   "outputs": [],
   "source": []
  }
 ],
 "metadata": {
  "kernelspec": {
   "display_name": "Python 3",
   "language": "python",
   "name": "python3"
  },
  "language_info": {
   "codemirror_mode": {
    "name": "ipython",
    "version": 3
   },
   "file_extension": ".py",
   "mimetype": "text/x-python",
   "name": "python",
   "nbconvert_exporter": "python",
   "pygments_lexer": "ipython3",
   "version": "3.6.5"
  }
 },
 "nbformat": 4,
 "nbformat_minor": 2
}
